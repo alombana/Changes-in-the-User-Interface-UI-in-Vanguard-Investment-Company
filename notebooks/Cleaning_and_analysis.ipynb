{
 "cells": [
  {
   "cell_type": "code",
   "execution_count": null,
   "id": "41d22538",
   "metadata": {},
   "outputs": [],
   "source": [
    "import pandas as pd\n",
    "import requests\n",
    "import seaborn as sns\n",
    "import matplotlib.pyplot as plt\n",
    "import numpy as np\n",
    "import scipy.stats as st\n",
    "from scipy.stats import chi2_contingency\n",
    "from statsmodels.stats.proportion import proportions_ztest\n",
    "from scipy.stats.contingency import association\n",
    "from scipy.stats import pearsonr"
   ]
  },
  {
   "cell_type": "markdown",
   "id": "0e7b0443",
   "metadata": {},
   "source": [
    "# Cleaning and graphs"
   ]
  },
  {
   "cell_type": "code",
   "execution_count": null,
   "id": "679d3f35",
   "metadata": {},
   "outputs": [],
   "source": [
    "client_profiles=pd.read_csv(\"/Users/angie/Documents/Ironhack/ProjectTwo/Data/Original data/df_final_demo.txt\")"
   ]
  },
  {
   "cell_type": "code",
   "execution_count": null,
   "id": "c7f2fd01-c411-4c87-a4d1-f6536369fef0",
   "metadata": {},
   "outputs": [],
   "source": [
    "client_profiles.describe().round()"
   ]
  },
  {
   "cell_type": "code",
   "execution_count": null,
   "id": "6cea5acd",
   "metadata": {},
   "outputs": [],
   "source": [
    "#cleaning part\n",
    "client_profiles.dropna(thresh=2, inplace=True, ignore_index=True)\n",
    "client_profiles.clnt_age.fillna(client_profiles.clnt_age.mean(), inplace=True)\n",
    "client_profiles['clnt_age']=client_profiles['clnt_age'].apply(int)"
   ]
  },
  {
   "cell_type": "code",
   "execution_count": null,
   "id": "d3f391a7",
   "metadata": {},
   "outputs": [],
   "source": [
    "client_profiles"
   ]
  },
  {
   "cell_type": "code",
   "execution_count": null,
   "id": "dd8f0a9b",
   "metadata": {},
   "outputs": [],
   "source": [
    "web_data_one=pd.read_csv(\"/Users/angie/Documents/Ironhack/ProjectTwo/Data/Original data/df_final_web_data_pt_1.txt\")\n",
    "web_data_two=pd.read_csv(\"/Users/angie/Documents/Ironhack/ProjectTwo/Data/Original data/df_final_web_data_pt_2.txt\")"
   ]
  },
  {
   "cell_type": "code",
   "execution_count": null,
   "id": "b521e026-adf3-4ef0-9efd-5b20bd8865c1",
   "metadata": {},
   "outputs": [],
   "source": [
    "web_data_two.isna().sum()"
   ]
  },
  {
   "cell_type": "code",
   "execution_count": null,
   "id": "9697f7bc",
   "metadata": {},
   "outputs": [],
   "source": [
    "#cleaning part\n",
    "client_interactions=pd.concat([web_data_one,web_data_two], ignore_index=True)\n",
    "client_interactions.drop_duplicates(inplace=True, ignore_index=True)\n",
    "client_interactions['date_time']=pd.to_datetime(client_interactions.date_time,format='%Y-%m-%d %H:%M:%S')"
   ]
  },
  {
   "cell_type": "code",
   "execution_count": null,
   "id": "6452030b",
   "metadata": {
    "scrolled": true
   },
   "outputs": [],
   "source": [
    "client_interactions"
   ]
  },
  {
   "cell_type": "code",
   "execution_count": null,
   "id": "a674ccaf",
   "metadata": {},
   "outputs": [],
   "source": [
    "client_experiment=pd.read_csv(\"/Users/angie/Documents/Ironhack/ProjectTwo/Data/Original data/df_final_experiment_clients.txt\")"
   ]
  },
  {
   "cell_type": "code",
   "execution_count": null,
   "id": "07fa2b69-6cbf-4284-a848-09c51eb6dd2d",
   "metadata": {},
   "outputs": [],
   "source": [
    "client_experiment.isna().sum()"
   ]
  },
  {
   "cell_type": "code",
   "execution_count": null,
   "id": "76838ae9",
   "metadata": {},
   "outputs": [],
   "source": [
    "#cleaning part\n",
    "client_experiment.dropna(inplace=True, ignore_index=True)"
   ]
  },
  {
   "cell_type": "code",
   "execution_count": null,
   "id": "1e3e17e8",
   "metadata": {},
   "outputs": [],
   "source": [
    "client_experiment"
   ]
  },
  {
   "cell_type": "markdown",
   "id": "6625d43c",
   "metadata": {},
   "source": [
    "### Who are the primary clients using this online process?\n",
    "between 24 and 63 years. Having to mayor groups. One between 25 and 32 years and the other between 49 and 63 years\n",
    "\n",
    "### Are the primary clients younger or older, new or long-standing?\n",
    "They are mix. The clients that have been at least 5 years (that is the hihger amount of customers) with the company are youngers and the ones that have been more than 12 years are more seniors."
   ]
  },
  {
   "cell_type": "code",
   "execution_count": null,
   "id": "000ab093",
   "metadata": {},
   "outputs": [],
   "source": [
    "client_profiles.describe()"
   ]
  },
  {
   "cell_type": "code",
   "execution_count": null,
   "id": "48ef131a",
   "metadata": {},
   "outputs": [],
   "source": [
    "#crosstable: count for clients ages in order to check the primary clients\n",
    "age_count=pd.crosstab(index=client_profiles.clnt_age, columns='Count')\n",
    "age_count_sorted=age_count.sort_values(by='Count', ascending=False)\n",
    "age_count_sorted=age_count_sorted.head(30)"
   ]
  },
  {
   "cell_type": "code",
   "execution_count": null,
   "id": "e49d2026",
   "metadata": {
    "scrolled": true
   },
   "outputs": [],
   "source": [
    "plt.figure(figsize=(20, 7))\n",
    "sns.countplot(data=client_profiles, x='clnt_age', palette=\"Set3\", hue='clnt_age', legend=False)"
   ]
  },
  {
   "cell_type": "code",
   "execution_count": null,
   "id": "e59cda01",
   "metadata": {},
   "outputs": [],
   "source": [
    "#plot zooming the higher amount of clients\n",
    "plt.figure(figsize=(25, 7))\n",
    "sns.barplot(x=age_count_sorted.index, y=age_count_sorted[\"Count\"], palette=\"Set3\",hue=age_count_sorted.index, legend=False)"
   ]
  },
  {
   "cell_type": "code",
   "execution_count": null,
   "id": "fe1e52ed",
   "metadata": {},
   "outputs": [],
   "source": [
    "#Data base filtering the customer between the ages of 24 and 63 years old.\n",
    "#following by plots in order to analyze the \"ternure age\" and the \"age of the customers\"\n",
    "client_profiles_filter=client_profiles\n",
    "client_profiles_filter[\"filter_age\"]=client_profiles_filter[\"clnt_age\"].apply(lambda value: value if value in age_count_sorted.index else \"none\")\n",
    "filtered=client_profiles_filter[\"filter_age\"]!=\"none\"\n",
    "client_profiles_filter[filtered]"
   ]
  },
  {
   "cell_type": "code",
   "execution_count": null,
   "id": "32761e17",
   "metadata": {
    "scrolled": true
   },
   "outputs": [],
   "source": [
    "\n",
    "plt.figure(figsize=(50, 7))\n",
    "sns.countplot(data=client_profiles_filter[filtered], x='clnt_tenure_yr', palette=\"Set3\", hue=\"clnt_tenure_yr\", legend=False)"
   ]
  },
  {
   "cell_type": "code",
   "execution_count": null,
   "id": "906c6ee5",
   "metadata": {},
   "outputs": [],
   "source": [
    "plt.figure(figsize=(50, 7))\n",
    "sns.countplot(data=client_profiles_filter[filtered], x='clnt_tenure_yr', palette=\"Set3\", hue=\"clnt_age\", legend=False)"
   ]
  },
  {
   "cell_type": "code",
   "execution_count": null,
   "id": "c89f12c0",
   "metadata": {},
   "outputs": [],
   "source": [
    "plt.figure(figsize=(20, 7))\n",
    "sns.countplot(data=client_profiles_filter[filtered][client_profiles_filter[\"clnt_tenure_yr\"]==5], x='clnt_tenure_yr', palette=\"Set3\", hue=\"clnt_age\", legend=True)"
   ]
  },
  {
   "cell_type": "code",
   "execution_count": null,
   "id": "e9be4fff",
   "metadata": {
    "scrolled": true
   },
   "outputs": [],
   "source": [
    "plt.figure(figsize=(20, 7))\n",
    "sns.countplot(data=client_profiles_filter[filtered][client_profiles_filter[\"clnt_tenure_yr\"]==6], x='clnt_tenure_yr', palette=\"Set3\", hue=\"clnt_age\", legend=True)"
   ]
  },
  {
   "cell_type": "code",
   "execution_count": null,
   "id": "79c2a50a",
   "metadata": {},
   "outputs": [],
   "source": [
    "#checking the amount of years that a customer between 49 and 63 years old have been with the company\n",
    "plt.figure(figsize=(20, 7))\n",
    "sns.countplot(data=client_profiles_filter[filtered][client_profiles_filter[\"clnt_age\"].between(49,63)], x='clnt_tenure_yr', palette=\"Set3\", hue=\"clnt_age\", legend=True)"
   ]
  },
  {
   "cell_type": "code",
   "execution_count": null,
   "id": "27ca2da7",
   "metadata": {},
   "outputs": [],
   "source": [
    "#checking the amount of years that a customer between 25 and 32 years old have been with the company\n",
    "plt.figure(figsize=(20, 7))\n",
    "sns.countplot(data=client_profiles_filter[filtered][client_profiles_filter[\"clnt_age\"].between(25,32)], x='clnt_tenure_yr', palette=\"Set3\", hue=\"clnt_age\", legend=True)"
   ]
  },
  {
   "cell_type": "markdown",
   "id": "e5324735",
   "metadata": {},
   "source": [
    "# Performance Metrics"
   ]
  },
  {
   "cell_type": "code",
   "execution_count": null,
   "id": "2bba5a6b",
   "metadata": {},
   "outputs": [],
   "source": [
    "#creating a list of clien_id that reach \"confirm\" step\n",
    "confirm_df=client_interactions[client_interactions.process_step==\"confirm\"]\n",
    "client_id=list(confirm_df.client_id.unique())\n",
    "filtered_id=client_interactions[client_interactions[\"client_id\"].isin(client_id)]\n",
    "filtered_id.sort_values(by=[\"client_id\",\"date_time\"], inplace=True)\n",
    "#The one who do not reach \"confirm\"\n",
    "filtered_no_confirm=client_interactions[~client_interactions[\"client_id\"].isin(client_id)]"
   ]
  },
  {
   "cell_type": "code",
   "execution_count": null,
   "id": "28b6516c-66c1-4c18-9943-2af488921096",
   "metadata": {},
   "outputs": [],
   "source": [
    "id_didnot_completed=client_interactions[~client_interactions[\"client_id\"].isin(client_id)]\n",
    "no_complete_client_id=list(id_didnot_completed.client_id.unique())"
   ]
  },
  {
   "cell_type": "code",
   "execution_count": null,
   "id": "23eb7a8c",
   "metadata": {},
   "outputs": [],
   "source": [
    "#creating a list of the customer whom complete the whole steps until reach \"confirm\" and the customers whom reach\n",
    "#\"confirm but come back to last step instead of moving forward\"\n",
    "steps=[\"start\",\"step_1\",\"step_2\",\"step_3\",\"confirm\"]\n",
    "finals_ids=[]\n",
    "step_1=[]\n",
    "step_2=[]\n",
    "step_3=[]\n",
    "confirm=[]\n",
    "fail_steps=[]\n",
    "fail_ids=[]\n",
    "\n",
    "for item in client_id:\n",
    "    df=filtered_id[filtered_id.client_id==item]\n",
    "    if df.client_id.count()==5:\n",
    "        psteps=list(df.process_step)\n",
    "        if psteps==steps:\n",
    "            finals_ids.append(item)\n",
    "            time=list(df.date_time)\n",
    "            step_1.append((time[1]-time[0]).total_seconds())\n",
    "            step_2.append((time[2]-time[1]).total_seconds())\n",
    "            step_3.append((time[3]-time[2]).total_seconds())\n",
    "            confirm.append((time[4]-time[3]).total_seconds())\n",
    "        else:\n",
    "            fail_ids.append(item)\n",
    "            fail_steps.append(list(df.process_step))\n",
    "    else:\n",
    "        fail_ids.append(item)\n",
    "        fail_steps.append(list(df.process_step))\n"
   ]
  },
  {
   "cell_type": "code",
   "execution_count": null,
   "id": "2b42985d",
   "metadata": {},
   "outputs": [],
   "source": [
    "#DataFrame of clients whom succeed\n",
    "clients_confirm=pd.DataFrame({\"client_id\": finals_ids, \"time_step_1\": step_1, \"time_step_2\": step_2, \"time_step_3\": step_3,\"time_confirm\": confirm})\n",
    "\n"
   ]
  },
  {
   "cell_type": "code",
   "execution_count": null,
   "id": "f0c5a29b-b5d7-42b0-95f6-69f0af416c96",
   "metadata": {},
   "outputs": [],
   "source": [
    "#Creating DataFrame for the ones that who did not succeed in reach to \"confirm\" step:\n",
    "not_complete=[]\n",
    "not_complete_steps=[]\n",
    "\n",
    "for item in no_complete_client_id:\n",
    "    df=client_interactions[client_interactions.client_id==item]\n",
    "    not_complete.append(item)\n",
    "    not_complete_steps.append(list(df.process_step))\n",
    "\n",
    "\n",
    "mode_not_complete=[]\n",
    "for results in not_complete_steps:    \n",
    "    for item in results:\n",
    "        frequency_dict={}\n",
    "        if item in frequency_dict:\n",
    "            frequency_dict[item]+=1\n",
    "        else:\n",
    "            frequency_dict[item]=1\n",
    "    maxi=max(frequency_dict.values())\n",
    "    for key,value in frequency_dict.items():\n",
    "        if value==maxi:\n",
    "            mode_not_complete.append(key)"
   ]
  },
  {
   "cell_type": "code",
   "execution_count": null,
   "id": "ff9bbd24-10a4-4c2a-8c1a-18262eb8d324",
   "metadata": {},
   "outputs": [],
   "source": [
    "total_not_complete=pd.DataFrame({\"client_id\":not_complete, \"steps\": not_complete_steps,\"mode\": mode_not_complete})\n",
    "total_not_complete[\"result\"]=\"not succeed\"\n",
    "total_not_complete[\"Time_AVG\"]=0\n",
    "total_not_complete"
   ]
  },
  {
   "cell_type": "code",
   "execution_count": null,
   "id": "5d3dfde2-7099-454e-b470-3aa17b435550",
   "metadata": {},
   "outputs": [],
   "source": [
    "# Total count unique client_id that do not interact but reach \"confirm\" - amt client error:\n",
    "no_confirm_df=client_interactions[client_interactions.process_step!=\"confirm\"]\n",
    "interaction_cid=list(no_confirm_df.client_id.unique())\n",
    "client_not_reach_cofirmation=set(client_id)-set(interaction_cid)\n",
    "\n",
    "\n",
    "#Creating a dataframe with the amount of clients who do and do not succeed:\n",
    "\n",
    "proportions=pd.DataFrame([int(client_interactions.client_id.nunique()), int(filtered_no_confirm.client_id.nunique()),int(filtered_id.client_id.nunique()), int(len(fail_ids)),  int(clients_confirm.client_id.nunique()), int(len(client_not_reach_cofirmation))], index=[\n",
    "    \"total_amt_clients\",\n",
    "    \"amt_clients_not_reach_confirm\",\n",
    "    \"amt_clients_reach_confirm\",\n",
    "    \"amt_clients_reach_confirm_but_when_back\",\n",
    "    \"amt_clients_reach_confirm_straightforward\",\"amt_client_error\"])\n",
    "\n",
    "proportions.columns=[\"amount\"]\n",
    "\n",
    "proportions"
   ]
  },
  {
   "cell_type": "code",
   "execution_count": null,
   "id": "ee0d2541-9e0f-4df9-8836-975423f692ad",
   "metadata": {},
   "outputs": [],
   "source": [
    "client_profiles[client_profiles[\"client_id\"]==355337]"
   ]
  },
  {
   "cell_type": "code",
   "execution_count": null,
   "id": "6b267c04-a8d8-4b86-a97a-294288969be2",
   "metadata": {},
   "outputs": [],
   "source": [
    "client_experiment[client_experiment[\"client_id\"]==355337]"
   ]
  },
  {
   "cell_type": "code",
   "execution_count": null,
   "id": "16936c07-772a-483c-983a-c93f37a9b68d",
   "metadata": {},
   "outputs": [],
   "source": [
    "clients_confirm[clients_confirm[\"client_id\"]==355337]"
   ]
  },
  {
   "cell_type": "markdown",
   "id": "025e8f8d-a097-4d9f-a5c7-d3ef9cb0eca5",
   "metadata": {},
   "source": [
    "### Total unique clients_proflie: 70595\n",
    "### Total unique clients_experiment_table: 50500\n",
    "### Total unique clients in experiment_table but they do not have a profile: 12\n",
    "### Total unique clients that succeed but they do not have a profile: 15809\n",
    "### Total unique clients that succeed but they are not Test neither Control: 22137"
   ]
  },
  {
   "cell_type": "code",
   "execution_count": null,
   "id": "9800bdbc-597a-4fdf-b251-ec9318b3a0ad",
   "metadata": {},
   "outputs": [],
   "source": [
    "total_clients_profile=list(client_profiles.client_id.unique())\n",
    "total_clients_experiment=list(client_experiment.client_id.unique())\n",
    "clients_no_info_profile=[item for item in total_clients_experiment if item not in total_clients_profile]\n",
    "id_clients_suceed=list(clients_confirm.client_id.unique())\n",
    "clients_id_info_profile_succeed=[item for item in id_clients_suceed if item not in total_clients_profile]\n"
   ]
  },
  {
   "cell_type": "code",
   "execution_count": null,
   "id": "0901f06e-0307-48f9-b211-7bf300b8f644",
   "metadata": {},
   "outputs": [],
   "source": [
    "##Table with the clients who reach the confirm step, but not straightforward\n",
    "mode_error=[]\n",
    "for results in fail_steps:    \n",
    "    for item in results:\n",
    "        frequency_dict={}\n",
    "        if item in frequency_dict:\n",
    "            frequency_dict[item]+=1\n",
    "        else:\n",
    "            frequency_dict[item]=1\n",
    "    maxi=max(frequency_dict.values())\n",
    "    for key,value in frequency_dict.items():\n",
    "        if value==maxi:\n",
    "            mode_error.append(key)\n",
    "    \n",
    "         "
   ]
  },
  {
   "cell_type": "code",
   "execution_count": null,
   "id": "8d6c5816-ee4d-4b93-81d1-a722b0a78f5c",
   "metadata": {},
   "outputs": [],
   "source": [
    "clients_errors=pd.DataFrame({\"client_id\":fail_ids, \"steps\":fail_steps, \"mode\":mode_error})\n",
    "clients_errors[\"result\"]=\"error\"\n",
    "clients_errors[\"Time_AVG\"]=0\n",
    "clients_errors"
   ]
  },
  {
   "cell_type": "code",
   "execution_count": null,
   "id": "7248207b-c846-4451-b47a-a3753812ad4f",
   "metadata": {},
   "outputs": [],
   "source": [
    "#mergin client_experiment to clients_confirm table in order to check whom were and were not involved in the test\n",
    "variation_client=pd.merge(clients_confirm, client_experiment, on='client_id', how='left')\n",
    "variation_client.isna().sum()"
   ]
  },
  {
   "cell_type": "code",
   "execution_count": null,
   "id": "b09dd218-b66d-4315-913b-51788b23bcb0",
   "metadata": {},
   "outputs": [],
   "source": [
    "succeed_client=variation_client.dropna()"
   ]
  },
  {
   "cell_type": "code",
   "execution_count": null,
   "id": "b2213a07-c002-4066-9d7f-b10483d7bbc8",
   "metadata": {},
   "outputs": [],
   "source": [
    "succeed_client[\"total_time\"]=(succeed_client[\"time_step_1\"]+succeed_client[\"time_step_2\"]+succeed_client[\"time_step_3\"]+succeed_client[\"time_confirm\"]).round(0)"
   ]
  },
  {
   "cell_type": "code",
   "execution_count": null,
   "id": "b4d86664-8f0f-42f4-b0ce-279100126270",
   "metadata": {},
   "outputs": [],
   "source": [
    "#Cheking out the ones that take more than one day in reach \"confirm\", that are affecting the AVG of the results:\n",
    "succeed_client[succeed_client[\"total_time\"]>=86400]"
   ]
  },
  {
   "cell_type": "code",
   "execution_count": null,
   "id": "ab49c133-8443-4e63-9445-3e112ae5af49",
   "metadata": {},
   "outputs": [],
   "source": [
    "#Takign out the ones that take more than one day in reach \"confirm\":\n",
    "experiment_client_less_one_day=succeed_client[succeed_client[\"total_time\"]<=86400]"
   ]
  },
  {
   "cell_type": "code",
   "execution_count": null,
   "id": "a05d49cf-2406-4b5d-8440-0e0f4500b802",
   "metadata": {},
   "outputs": [],
   "source": [
    "experiment_client_less_one_day[\"Time_AVG\"]=(experiment_client_less_one_day.total_time/4).round(1)\n",
    "experiment_client_less_one_day[\"result\"]=\"succeed\""
   ]
  },
  {
   "cell_type": "code",
   "execution_count": null,
   "id": "acd7cbdf-6a6b-44ec-ac92-379d16955dac",
   "metadata": {},
   "outputs": [],
   "source": [
    "#example of special client that took two days from start until step_1\n",
    "client_interactions[client_interactions[\"client_id\"]==324094]"
   ]
  },
  {
   "cell_type": "code",
   "execution_count": null,
   "id": "9061397c-6161-44c9-9bf6-e743569ad9f1",
   "metadata": {},
   "outputs": [],
   "source": [
    "#Check if all client_id in experiment, are in the client_interaction: must be 0 the return\n",
    "total_client_interactions=list(client_interactions.client_id.unique())\n",
    "completation_yes=client_experiment[client_experiment[\"client_id\"].isin(total_client_interactions)]\n",
    "len(client_experiment.client_id)-len(completation_yes)"
   ]
  },
  {
   "cell_type": "code",
   "execution_count": null,
   "id": "111bad26-7082-4d41-9e65-fd1b709494e8",
   "metadata": {},
   "outputs": [],
   "source": [
    "#mergin a table by id, variation, and result test:\n",
    "merge_results=pd.concat([clients_errors,experiment_client_less_one_day,total_not_complete], axis=0)\n",
    "finals_error_and_succeed=merge_results.drop([\"steps\", \"time_step_1\",\t\"time_step_2\",\t\"time_step_3\",\t\"time_confirm\",\"Variation\"], axis=1)\n",
    "finals_error_and_succeed"
   ]
  },
  {
   "cell_type": "code",
   "execution_count": null,
   "id": "cb706064-fa5c-4f0d-8214-bcec0040af36",
   "metadata": {},
   "outputs": [],
   "source": [
    "final_experiment_result=pd.merge(client_experiment, finals_error_and_succeed, how=\"left\", on=\"client_id\")\n",
    "final_experiment_result=final_experiment_result.dropna(subset=\"result\")"
   ]
  },
  {
   "cell_type": "code",
   "execution_count": null,
   "id": "2dd89e7b-a56a-478a-86bd-51f85dcb3456",
   "metadata": {},
   "outputs": [],
   "source": [
    "final_experiment_result"
   ]
  },
  {
   "cell_type": "markdown",
   "id": "e05bd229-976f-4cc0-a94d-e1143a6cae3f",
   "metadata": {},
   "source": [
    "# Hypothesis Testing"
   ]
  },
  {
   "cell_type": "markdown",
   "id": "c30f4d4c-a270-4086-ba62-4ffb02c40864",
   "metadata": {},
   "source": [
    "# Completion Rate:\n",
    "Hypothesis:\n",
    "\n",
    "\n",
    " - H0: The difference in completion rate, from Test and Control group is not statistically significant  $cr_{control} = cr_{test}$\n",
    " - H1: The difference completion rate, from Test and Control group is statistically significant          $cr_{control} \\ne cr_{test}$\n",
    "\n",
    "        -Result: ztest_statistic: -1.4948643657156728, ztest:_p_value: 0.13494984383765263\n",
    "\n",
    "The null hypothesis is not rejected, being the P_value higher than 0.05. Which leads to a none significant statistically difference\n",
    "\n",
    "\n"
   ]
  },
  {
   "cell_type": "code",
   "execution_count": null,
   "id": "5f3080e8-e6f5-43ab-b9fd-c5c00e572702",
   "metadata": {},
   "outputs": [],
   "source": [
    "size_sample_test=client_experiment[client_experiment[\"Variation\"]==\"Test\"][\"Variation\"].count()\n",
    "size_sample_control=client_experiment[client_experiment[\"Variation\"]==\"Control\"][\"Variation\"].count()"
   ]
  },
  {
   "cell_type": "code",
   "execution_count": null,
   "id": "50ae35ae-bf69-4ff8-9ceb-14d07f23f718",
   "metadata": {},
   "outputs": [],
   "source": [
    "size_success_test=experiment_client_less_one_day[experiment_client_less_one_day[\"Variation\"]==\"Test\"][\"Variation\"].count()\n",
    "size_success_control=experiment_client_less_one_day[experiment_client_less_one_day[\"Variation\"]==\"Control\"][\"Variation\"].count()"
   ]
  },
  {
   "cell_type": "code",
   "execution_count": null,
   "id": "5075d0b8-d3ac-48d2-8595-25d493f3069c",
   "metadata": {},
   "outputs": [],
   "source": [
    "z_stat, p_value = proportions_ztest([size_success_test,size_success_control],[size_sample_test,size_sample_control])\n",
    "z_stat, p_value"
   ]
  },
  {
   "cell_type": "markdown",
   "id": "c2301651-15bf-416b-997e-d9e3ab7bf627",
   "metadata": {},
   "source": [
    "## Completion Rate with a Cost-Effectiveness Threshold"
   ]
  },
  {
   "cell_type": "markdown",
   "id": "c0757692-ba60-4742-ab1e-5f1cbdc3d432",
   "metadata": {},
   "source": [
    "Hypothesis:\n",
    "\n",
    " - H0: The difference does not exceed the 5% theshold             H0 < H1\n",
    " - H1: The difference does exceed the 5% theshold                 H0 > H1\n",
    "\n",
    "        -Result: ztest_statistic: -1.4948643657156728, ztest:_p_value: 0.9325250780811737\n",
    "\n",
    "The null hypothesis is rejected, being the P_value higher than 0.05. Which does exceed the 5% theshold"
   ]
  },
  {
   "cell_type": "code",
   "execution_count": null,
   "id": "8444679f-7d26-4e3d-92ed-d58bece83a5b",
   "metadata": {},
   "outputs": [],
   "source": [
    "z_stat_larger, p_value_larger = proportions_ztest([size_success_test,size_success_control],[size_sample_test,size_sample_control], value=0.05, alternative='larger')\n",
    "z_stat_larger, p_value_larger"
   ]
  },
  {
   "cell_type": "markdown",
   "id": "9ae3e6f0-05c2-451e-b85d-c5157bf09e5b",
   "metadata": {},
   "source": [
    "## Relation between the control and test groups agains the results"
   ]
  },
  {
   "cell_type": "markdown",
   "id": "7100cb31-0fdb-4b08-807b-9e967d27f05d",
   "metadata": {},
   "source": [
    "$H_{0}:$ both columns are independent (not related)\n",
    "\n",
    "$H_{1}:$ both columns are related\n",
    "\n",
    "    -Result: Pvalue: 1.988446134802158e-26, less than 0, therefore we reject the HO hypothesis. And both columns are related\n",
    "            With the Cramer's V I can deduct that even there is a dependenci between this variables, the strength is weak. Being the  association: 0.04841667649303389, lees than 1"
   ]
  },
  {
   "cell_type": "code",
   "execution_count": null,
   "id": "08e91ae7-ffde-43cb-a384-081a20c9d1e3",
   "metadata": {},
   "outputs": [],
   "source": [
    "crosstab_result = pd.crosstab(final_experiment_result['result'], final_experiment_result['Variation'], normalize=False)\n",
    "crosstab_result"
   ]
  },
  {
   "cell_type": "code",
   "execution_count": null,
   "id": "534e551b-cdbc-4042-ab37-401fb09c32d4",
   "metadata": {},
   "outputs": [],
   "source": [
    "chi2_statistic, chi2_p_value, _, _ = chi2_contingency(crosstab_result)\n",
    "\n",
    "chi2_statistic, chi2_p_value"
   ]
  },
  {
   "cell_type": "code",
   "execution_count": null,
   "id": "3963de28-cd54-4ffc-8947-cd0733a52a5b",
   "metadata": {},
   "outputs": [],
   "source": [
    "association(crosstab_result, method=\"cramer\")"
   ]
  },
  {
   "cell_type": "markdown",
   "id": "66b2b598-fcc3-4005-ba93-e23dba777a66",
   "metadata": {},
   "source": [
    "## Age hypothesis"
   ]
  },
  {
   "cell_type": "markdown",
   "id": "385f28a3-738c-477f-be04-8194c36d0db7",
   "metadata": {},
   "source": [
    "    - H0 : Results are independent of the age\n",
    "    - H1 : Results are dependent of the age\n",
    "\n",
    "### Results:\n",
    "    - from the chi2 test the Pvalue is: 3.379010337241941e-85. Less than 0.05. Therefore we reject the null hypothesis. Therefore the results and the age have a significant association\n",
    "    - About the stregth of this association, throught the Cramer's V result: 0.06956040694531841, close to zero. I can deduct that the asocciation tends to be weak"
   ]
  },
  {
   "cell_type": "code",
   "execution_count": null,
   "id": "3a7cc6c6-0b5d-4200-91d2-625ff591bc83",
   "metadata": {},
   "outputs": [],
   "source": [
    "filtering_age_ternure_yr_gender=client_profiles.drop([\"clnt_tenure_mnth\",\"num_accts\",\"bal\",\"calls_6_mnth\",\"logons_6_mnth\"], axis=1)\n",
    "profiles_experiment_result=pd.merge(final_experiment_result, filtering_age_ternure_yr_gender, how=\"left\", on=\"client_id\")\n",
    "profiles_experiment_result"
   ]
  },
  {
   "cell_type": "code",
   "execution_count": null,
   "id": "c4bb17b4-dcae-4975-b34b-1b28fcc17285",
   "metadata": {},
   "outputs": [],
   "source": [
    "crosstab_result_age=pd.crosstab([profiles_experiment_result['Variation'],profiles_experiment_result['result']],profiles_experiment_result['clnt_age'], normalize=False)\n",
    "crosstab_result_age"
   ]
  },
  {
   "cell_type": "code",
   "execution_count": null,
   "id": "0f5a5242-9a02-4d98-9498-2d2d0bbf7b41",
   "metadata": {},
   "outputs": [],
   "source": [
    "chi2_statistic, chi2_p_value, _, _ = chi2_contingency(crosstab_result_age)\n",
    "\n",
    "chi2_statistic, chi2_p_value"
   ]
  },
  {
   "cell_type": "code",
   "execution_count": null,
   "id": "9478c0ce-cacb-4871-bf20-ca9778e1d61f",
   "metadata": {
    "scrolled": true
   },
   "outputs": [],
   "source": [
    "association(crosstab_result_age, method=\"cramer\")"
   ]
  },
  {
   "cell_type": "code",
   "execution_count": null,
   "id": "3df49906-50ac-422b-9325-afb1683f5a21",
   "metadata": {},
   "outputs": [],
   "source": [
    "plt.figure(figsize=(10, 7))\n",
    "sns.heatmap(crosstab_result_age, annot=False, cmap='coolwarm')\n",
    "plt.xticks(rotation=60)\n"
   ]
  },
  {
   "cell_type": "markdown",
   "id": "810ea85b-6708-4426-876e-f1c63d3e23e8",
   "metadata": {},
   "source": [
    "## Ternure hypothesis"
   ]
  },
  {
   "cell_type": "markdown",
   "id": "4e150d2a-1914-43db-830e-fce9920e6167",
   "metadata": {},
   "source": [
    "    - H0 : Results are independent of the ternure yrs\n",
    "    - H1 : Results are dependent of the ternuere yrs\n",
    "Results:\n",
    "- from the chi2 test the Pvalue is: 5.764857428635835e-09. Less than 0.05. Therefore we reject the null hypothesis. Therefore the results and the ternure yrs have a significant association\n",
    "- About the stregth of this association, throught the Cramer's V result: 0.04039377130381852, close to zero. I can deduct that the asocciation tends to be weak"
   ]
  },
  {
   "cell_type": "code",
   "execution_count": null,
   "id": "0aa0e1ec-6286-4c56-8b1e-31f1ff575ba3",
   "metadata": {},
   "outputs": [],
   "source": [
    "crosstab_result_ternure=pd.crosstab([profiles_experiment_result['Variation'],profiles_experiment_result['result']],profiles_experiment_result['clnt_tenure_yr'], normalize=False)\n",
    "crosstab_result_ternure"
   ]
  },
  {
   "cell_type": "code",
   "execution_count": null,
   "id": "2b3c1f11-9783-4588-92b4-b5382900a554",
   "metadata": {},
   "outputs": [],
   "source": [
    "chi2_statistic, chi2_p_value, _, _ = chi2_contingency(crosstab_result_ternure)\n",
    "\n",
    "chi2_statistic, chi2_p_value"
   ]
  },
  {
   "cell_type": "code",
   "execution_count": null,
   "id": "6dcf4a6a-1eb8-48fb-ab67-63563a8dafc4",
   "metadata": {},
   "outputs": [],
   "source": [
    "association(crosstab_result_ternure, method=\"cramer\")"
   ]
  },
  {
   "cell_type": "code",
   "execution_count": null,
   "id": "44edb58e-de11-40ef-8b4f-08df0d70d468",
   "metadata": {},
   "outputs": [],
   "source": [
    "sns.heatmap(crosstab_result_ternure, annot=False, cmap=\"YlGnBu\")"
   ]
  },
  {
   "cell_type": "markdown",
   "id": "b66785d6-10ed-48c6-8ac1-f4fa7974dcfb",
   "metadata": {},
   "source": [
    "## Checking the Distribution of the test amount of parcipants by age and ternure"
   ]
  },
  {
   "cell_type": "code",
   "execution_count": null,
   "id": "67c6cd92-379a-4500-af8c-53e58e6ebbb7",
   "metadata": {},
   "outputs": [],
   "source": [
    "#by age:\n",
    "sns.kdeplot(data=profiles_experiment_result, fill=True \n",
    ", x='clnt_age', hue=\"Variation\");"
   ]
  },
  {
   "cell_type": "code",
   "execution_count": null,
   "id": "6d086477-e093-4bcf-bad9-6f2ac83ce283",
   "metadata": {},
   "outputs": [],
   "source": [
    "# by ternure:\n",
    "sns.kdeplot(data=profiles_experiment_result, fill=True \n",
    ", x='clnt_tenure_yr', hue=\"Variation\");"
   ]
  },
  {
   "cell_type": "markdown",
   "id": "5f8b1b67-44e2-4cfd-992d-986f12e5634d",
   "metadata": {},
   "source": [
    "## Checkign the results with customer than have been more than 20yrs"
   ]
  },
  {
   "cell_type": "code",
   "execution_count": null,
   "id": "4b6c1e2e-6231-4125-8ae5-b7b9285d2c75",
   "metadata": {},
   "outputs": [],
   "source": [
    "checking_ternure_than20=profiles_experiment_result[profiles_experiment_result[\"clnt_tenure_yr\"]>=20]\n",
    "checking_ternure_than20"
   ]
  },
  {
   "cell_type": "code",
   "execution_count": null,
   "id": "a8edea70-5595-4796-9f4f-1688f967f603",
   "metadata": {},
   "outputs": [],
   "source": [
    "cross_ternure_than20=pd.crosstab([checking_ternure_than20[\"Variation\"],checking_ternure_than20[\"result\"]],checking_ternure_than20[\"clnt_age\"])"
   ]
  },
  {
   "cell_type": "code",
   "execution_count": null,
   "id": "15f7a492-e21f-4f84-8eed-bd8a4ba38bce",
   "metadata": {},
   "outputs": [],
   "source": [
    "sns.heatmap(cross_ternure_than20, annot=False, cmap=\"YlGnBu\")"
   ]
  },
  {
   "cell_type": "markdown",
   "id": "00e966d3-3c88-481f-90d5-b7d3faf5f3eb",
   "metadata": {},
   "source": [
    "## Correlation coefficients"
   ]
  },
  {
   "cell_type": "markdown",
   "id": "e77225c1-0d9a-4bd8-a01a-e7a4ae078b8c",
   "metadata": {},
   "source": [
    "    - The varibles age and ternure yrs do not have a linear relationship between, being the Pearson result: 0.3111478676205681, close to zero rather than 1. Also for the result of the Spearman: 0.30277137656233305 I can mentioned that there even not a monotonic relationship between them.\n",
    "    - Would be nice mentioned that the Pvalue from the Pearson test is lest than 0.05, therefore these two variables are not independent"
   ]
  },
  {
   "cell_type": "code",
   "execution_count": null,
   "id": "0414e54b-45ab-4411-af18-d251cbe0e9ba",
   "metadata": {},
   "outputs": [],
   "source": [
    "table_for_correlation=profiles_experiment_result[~profiles_experiment_result[\"clnt_age\"].isna()]"
   ]
  },
  {
   "cell_type": "code",
   "execution_count": null,
   "id": "9e47bd1f-8d95-4484-87b7-72cbf74e601d",
   "metadata": {},
   "outputs": [],
   "source": [
    "correlation_coef, p_value = pearsonr(table_for_correlation['clnt_age'], table_for_correlation['clnt_tenure_yr'])\n",
    "correlation_coef, p_value"
   ]
  },
  {
   "cell_type": "code",
   "execution_count": null,
   "id": "3d4b6a34-06e8-48b3-8339-8585927f8450",
   "metadata": {},
   "outputs": [],
   "source": [
    "table_for_correlation['clnt_age'].corr(table_for_correlation['clnt_tenure_yr'])"
   ]
  },
  {
   "cell_type": "code",
   "execution_count": null,
   "id": "98e31101-d267-4ca3-a7cc-77825830ac7c",
   "metadata": {},
   "outputs": [],
   "source": [
    "table_for_correlation['clnt_age'].corr(table_for_correlation['clnt_tenure_yr'], method=\"spearman\")"
   ]
  },
  {
   "cell_type": "code",
   "execution_count": null,
   "id": "653b758f-30a2-4e32-9aef-3768e593e5e8",
   "metadata": {},
   "outputs": [],
   "source": [
    "sns.lmplot(data=table_for_correlation,\n",
    "            x='clnt_age',\n",
    "            y='clnt_tenure_yr',line_kws={\"color\": \"yellow\"});"
   ]
  },
  {
   "cell_type": "code",
   "execution_count": null,
   "id": "1341b476-5137-46b7-b265-bbadc57153db",
   "metadata": {},
   "outputs": [],
   "source": [
    "correlation_time_age=table_for_correlation[table_for_correlation[\"result\"]==\"succeed\"]"
   ]
  },
  {
   "cell_type": "code",
   "execution_count": null,
   "id": "a439e33e-f617-486c-ab85-369feb857b6d",
   "metadata": {},
   "outputs": [],
   "source": [
    "correlation_time_age.sort_values(by=\"Time_AVG\")"
   ]
  },
  {
   "cell_type": "code",
   "execution_count": null,
   "id": "738aef69-99fc-4f41-9f71-2d53d4295965",
   "metadata": {},
   "outputs": [],
   "source": [
    "correlation_coef, p_value = pearsonr(correlation_time_age['clnt_age'], correlation_time_age['Time_AVG'])\n",
    "correlation_coef, p_value"
   ]
  },
  {
   "cell_type": "code",
   "execution_count": null,
   "id": "e846f86f-b616-47ff-9260-1f8b417ea4c8",
   "metadata": {},
   "outputs": [],
   "source": [
    "sns.lmplot(data=correlation_time_age,\n",
    "            x='clnt_age',\n",
    "            y='Time_AVG',line_kws={\"color\": \"yellow\"});"
   ]
  },
  {
   "cell_type": "markdown",
   "id": "754a8b8c-0c5b-4c0f-ae86-22fcf80f5527",
   "metadata": {},
   "source": [
    " # Relation between the age and the time in minutes:\n",
    "\n",
    "     - I can deduct that in base of the correlation result from the Pearson test, there is not a linear relationship between the mentioned variables. Therefore the age did not afect that the AVG in minutes for the new update really change.\n",
    "     - With the spearman method : 0.26684562569386716, close to zero, we can also indicate that is a wak or no monotonic relationship\n",
    "     - Though the Pvalue is less than 0.05 : 1.1697643971178092e-136, therefore there is a correlation but not linear"
   ]
  },
  {
   "cell_type": "code",
   "execution_count": null,
   "id": "0940d19c-487d-4dea-abfc-3dafbbaf7d57",
   "metadata": {},
   "outputs": [],
   "source": [
    "correlation_time_age_drop=correlation_time_age.drop([33038,19986])"
   ]
  },
  {
   "cell_type": "code",
   "execution_count": null,
   "id": "4522b2d4-7683-46d5-b6ab-93943b1e54fe",
   "metadata": {},
   "outputs": [],
   "source": [
    "correlation_time_age_drop[\"AVG_minutes\"]=correlation_time_age_drop[\"Time_AVG\"].apply(lambda x: x/60).round(2)"
   ]
  },
  {
   "cell_type": "code",
   "execution_count": null,
   "id": "9c33cc8d-f556-4d5f-8c98-cc0dd3e62f66",
   "metadata": {},
   "outputs": [],
   "source": [
    "correlation_time_age_drop"
   ]
  },
  {
   "cell_type": "code",
   "execution_count": null,
   "id": "0c699582-ae63-4fa6-ae91-816d37dec8e0",
   "metadata": {},
   "outputs": [],
   "source": [
    "correlation_coef, p_value = pearsonr(correlation_time_age_drop['clnt_age'], correlation_time_age_drop['AVG_minutes'])\n",
    "correlation_coef, p_value"
   ]
  },
  {
   "cell_type": "code",
   "execution_count": null,
   "id": "2b44d85f-6762-420d-9238-66d2060db6b9",
   "metadata": {},
   "outputs": [],
   "source": [
    "sns.lmplot(data=correlation_time_age_drop,\n",
    "            x='clnt_age',\n",
    "            y='AVG_minutes',hue=\"Variation\");"
   ]
  },
  {
   "cell_type": "code",
   "execution_count": null,
   "id": "1e34a9b5-308c-4043-aab8-fe47300359ef",
   "metadata": {},
   "outputs": [],
   "source": [
    "correlation_time_age_drop['clnt_age'].corr(correlation_time_age_drop['AVG_minutes'], method=\"spearman\")"
   ]
  },
  {
   "cell_type": "markdown",
   "id": "e08706d4-4260-4361-a173-8d261a9764f1",
   "metadata": {},
   "source": [
    "### Add the AVG in minutes to the df of the experiment_client"
   ]
  },
  {
   "cell_type": "code",
   "execution_count": null,
   "id": "dbb39576-8096-40df-a1e0-16b17f4661db",
   "metadata": {},
   "outputs": [],
   "source": [
    "experiment_client_less_one_day[\"AVG_minutes\"]=experiment_client_less_one_day[\"Time_AVG\"].apply(lambda x: x/60).round(2)\n",
    "experiment_client_less_one_day"
   ]
  },
  {
   "cell_type": "code",
   "execution_count": null,
   "id": "7f09d913-be61-4410-abc3-04c105395417",
   "metadata": {},
   "outputs": [],
   "source": [
    "outliers=succeed_client[succeed_client[\"total_time\"]>=86400]"
   ]
  },
  {
   "cell_type": "code",
   "execution_count": null,
   "id": "32477608-fbeb-456f-97c6-cd3dc550b7ca",
   "metadata": {},
   "outputs": [],
   "source": [
    "succeed_client"
   ]
  },
  {
   "cell_type": "code",
   "execution_count": null,
   "id": "0e79128e-1d4b-4b02-8caa-2e88b55ed8b9",
   "metadata": {},
   "outputs": [],
   "source": [
    "outliers"
   ]
  },
  {
   "cell_type": "code",
   "execution_count": null,
   "id": "27d2b72b-30da-4fed-ad5e-999ed2fea2f1",
   "metadata": {},
   "outputs": [],
   "source": [
    "fig, ax = plt.subplots(figsize=(5,5))\n",
    "sns.boxplot(data=succeed_client, y=\"total_time\", hue=\"Variation\", ax=ax)\n",
    "plt.show()\n"
   ]
  }
 ],
 "metadata": {
  "kernelspec": {
   "display_name": "env_2",
   "language": "python",
   "name": "env_2"
  },
  "language_info": {
   "codemirror_mode": {
    "name": "ipython",
    "version": 3
   },
   "file_extension": ".py",
   "mimetype": "text/x-python",
   "name": "python",
   "nbconvert_exporter": "python",
   "pygments_lexer": "ipython3",
   "version": "3.11.5"
  }
 },
 "nbformat": 4,
 "nbformat_minor": 5
}
